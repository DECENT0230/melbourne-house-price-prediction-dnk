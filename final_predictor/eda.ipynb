{
 "cells": [
  {
   "cell_type": "code",
   "execution_count": 2,
   "id": "6d921bcd-3c55-4cba-a30f-b2d6b8d7e0dd",
   "metadata": {},
   "outputs": [],
   "source": [
    "import pandas as pd\n",
    "import matplotlib.pyplot as plt\n",
    "import seaborn as sns\n",
    "\n",
    "# Load preprocessed data\n",
    "data = pd.read_csv('preprocessed_clean_v4.csv')\n",
    "\n",
    "# No need to set seaborn style manually — sns already styles your plots\n",
    "\n",
    "# Histograms for all features and Price\n",
    "plt.figure(figsize=(15, 10))\n",
    "features = ['Rooms', 'Distance', 'Bedroom2', 'Bathroom', 'Car', 'Bedroom_Discrepancy', 'Price']\n",
    "for i, col in enumerate(features):\n",
    "    plt.subplot(3, 3, i+1)\n",
    "    sns.histplot(data[col], kde=True)\n",
    "    plt.title(f'Distribution of {col}')\n",
    "    plt.xlabel(col)\n",
    "    plt.ylabel('Count')\n",
    "plt.tight_layout()\n",
    "plt.savefig('histograms.png')\n",
    "plt.close()\n",
    "\n",
    "# Scatter plots of Price vs each feature\n",
    "plt.figure(figsize=(15, 10))\n",
    "for i, col in enumerate(features[:-1]):  # Exclude Price\n",
    "    plt.subplot(2, 3, i+1)\n",
    "    plt.scatter(data[col], data['Price'], alpha=0.5)\n",
    "    plt.xlabel(col)\n",
    "    plt.ylabel('Price ($)')\n",
    "    plt.title(f'Price vs {col}')\n",
    "plt.tight_layout()\n",
    "plt.savefig('scatter_plots.png')\n",
    "plt.close()\n",
    "\n",
    "# Correlation heatmap\n",
    "plt.figure(figsize=(10, 8))\n",
    "corr = data.corr()\n",
    "sns.heatmap(corr, annot=True, cmap='coolwarm', center=0, fmt='.2f')\n",
    "plt.title('Correlation Heatmap')\n",
    "plt.savefig('correlation_heatmap.png')\n",
    "plt.close()\n",
    "\n",
    "# Specific histogram for Bedroom_Discrepancy\n",
    "plt.figure(figsize=(6, 4))\n",
    "sns.histplot(data['Bedroom_Discrepancy'], kde=True, bins=20)\n",
    "plt.title('Distribution of Bedroom_Discrepancy')\n",
    "plt.xlabel('Bedroom_Discrepancy')\n",
    "plt.ylabel('Count')\n",
    "plt.savefig('bedroom_discrepancy_hist.png')\n",
    "plt.close()\n"
   ]
  },
  {
   "cell_type": "code",
   "execution_count": null,
   "id": "ce3e1ff0-08c6-46e0-a810-00e0a4cfa510",
   "metadata": {},
   "outputs": [],
   "source": []
  }
 ],
 "metadata": {
  "kernelspec": {
   "display_name": "Python 3 (ipykernel)",
   "language": "python",
   "name": "python3"
  },
  "language_info": {
   "codemirror_mode": {
    "name": "ipython",
    "version": 3
   },
   "file_extension": ".py",
   "mimetype": "text/x-python",
   "name": "python",
   "nbconvert_exporter": "python",
   "pygments_lexer": "ipython3",
   "version": "3.13.3"
  }
 },
 "nbformat": 4,
 "nbformat_minor": 5
}
