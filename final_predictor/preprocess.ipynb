{
 "cells": [
  {
   "cell_type": "code",
   "execution_count": 8,
   "id": "6c0066bd-27ed-41a9-8613-d2b82c76c02e",
   "metadata": {},
   "outputs": [],
   "source": [
    "import pandas as pd\n",
    "import numpy as np\n",
    "from sklearn.preprocessing import StandardScaler"
   ]
  },
  {
   "cell_type": "code",
   "execution_count": 9,
   "id": "d8e20972-d69f-40a7-8d3d-97742c850885",
   "metadata": {},
   "outputs": [],
   "source": [
    "# Load data\n",
    "data = pd.read_csv('melb_data.csv')"
   ]
  },
  {
   "cell_type": "code",
   "execution_count": 10,
   "id": "239c6d49-f505-4de3-9cbd-28c1e27c0951",
   "metadata": {},
   "outputs": [],
   "source": [
    "# Select relevant columns\n",
    "selected_columns = ['Rooms', 'Distance', 'Bedroom2', 'Bathroom', 'Car', 'Price']\n",
    "data = data[selected_columns]"
   ]
  },
  {
   "cell_type": "code",
   "execution_count": 11,
   "id": "5117ceaa-6546-4808-ad0f-9e503f60e3cf",
   "metadata": {},
   "outputs": [
    {
     "name": "stdout",
     "output_type": "stream",
     "text": [
      "Initial Null Values:\n",
      "Rooms        0\n",
      "Distance     0\n",
      "Bedroom2     0\n",
      "Bathroom     0\n",
      "Car         62\n",
      "Price        0\n",
      "dtype: int64\n"
     ]
    }
   ],
   "source": [
    "# Check initial null values\n",
    "print(\"Initial Null Values:\")\n",
    "print(data.isnull().sum())"
   ]
  },
  {
   "cell_type": "code",
   "execution_count": 12,
   "id": "7aa32012-d930-460a-8769-5c1217f457ff",
   "metadata": {},
   "outputs": [],
   "source": [
    "# Handle null values\n",
    "# Drop rows where Price or Distance is missing\n",
    "data = data.dropna(subset=['Price', 'Distance'])\n",
    "\n",
    "# Impute missing Bedroom2, Bathroom, Car with median\n",
    "for col in ['Bedroom2', 'Bathroom', 'Car']:\n",
    "    data[col] = data[col].fillna(data[col].median())\n"
   ]
  },
  {
   "cell_type": "code",
   "execution_count": 13,
   "id": "c74d1c6c-6737-4b7e-bfaa-db7c1d8ac3d9",
   "metadata": {},
   "outputs": [
    {
     "name": "stdout",
     "output_type": "stream",
     "text": [
      "\n",
      "Null Values After Imputation:\n",
      "Rooms       0\n",
      "Distance    0\n",
      "Bedroom2    0\n",
      "Bathroom    0\n",
      "Car         0\n",
      "Price       0\n",
      "dtype: int64\n"
     ]
    }
   ],
   "source": [
    "# Verify no null values remain\n",
    "print(\"\\nNull Values After Imputation:\")\n",
    "print(data.isnull().sum())"
   ]
  },
  {
   "cell_type": "code",
   "execution_count": 14,
   "id": "72eb24f2-7d54-434b-b031-278f0753de1f",
   "metadata": {},
   "outputs": [
    {
     "name": "stdout",
     "output_type": "stream",
     "text": [
      "\n",
      "Number of rows after removing duplicates: 13179\n"
     ]
    }
   ],
   "source": [
    "# Remove duplicates\n",
    "data = data.drop_duplicates()\n",
    "print(f\"\\nNumber of rows after removing duplicates: {len(data)}\")"
   ]
  },
  {
   "cell_type": "code",
   "execution_count": 16,
   "id": "292b28d2-3e02-4da8-901f-2137413ed75a",
   "metadata": {},
   "outputs": [],
   "source": [
    "# Handle inconsistencies\n",
    "# Ensure non-negative values\n",
    "data = data[(data['Price'] > 0) & (data['Distance'] >= 0) & \n",
    "            (data['Bathroom'] >= 0) & (data['Car'] >= 0)]\n",
    "\n",
    "# Fix Bedroom2 > Rooms inconsistency\n",
    "data.loc[data['Bedroom2'] > data['Rooms'], 'Bedroom2'] = data['Rooms']"
   ]
  },
  {
   "cell_type": "code",
   "execution_count": 17,
   "id": "8d8b4f82-2945-42df-aff4-85eac9b96c0c",
   "metadata": {},
   "outputs": [],
   "source": [
    "# Feature engineering: Bedroom_Discrepancy\n",
    "data['Bedroom_Discrepancy'] = data['Rooms'] - data['Bedroom2']"
   ]
  },
  {
   "cell_type": "code",
   "execution_count": 18,
   "id": "fc7b1cdc-f855-45f8-8e93-fb20e20d8988",
   "metadata": {},
   "outputs": [],
   "source": [
    "# Remove outliers using IQR for Price\n",
    "Q1 = data['Price'].quantile(0.25)\n",
    "Q3 = data['Price'].quantile(0.75)\n",
    "IQR = Q3 - Q1\n",
    "data = data[~((data['Price'] < (Q1 - 1.5 * IQR)) | (data['Price'] > (Q3 + 1.5 * IQR)))]"
   ]
  },
  {
   "cell_type": "code",
   "execution_count": 19,
   "id": "c5d88dac-0be5-429e-a778-71bd1319538d",
   "metadata": {},
   "outputs": [],
   "source": [
    "# Remove unrealistic values (e.g., Rooms > 10, Bathroom > 5, Car > 5)\n",
    "data = data[(data['Rooms'] <= 10) & (data['Bathroom'] <= 5) & (data['Car'] <= 5)]"
   ]
  },
  {
   "cell_type": "code",
   "execution_count": 20,
   "id": "f0342fd6-4291-4d93-9992-5c980f20808c",
   "metadata": {},
   "outputs": [],
   "source": [
    "# Normalize numerical features\n",
    "scaler = StandardScaler()\n",
    "numerical_features = ['Rooms', 'Distance', 'Bedroom2', 'Bathroom', 'Car', 'Bedroom_Discrepancy']\n",
    "data[numerical_features] = scaler.fit_transform(data[numerical_features])"
   ]
  },
  {
   "cell_type": "code",
   "execution_count": 21,
   "id": "a5c3b798-e2df-418a-affe-31a68223cff8",
   "metadata": {},
   "outputs": [
    {
     "name": "stdout",
     "output_type": "stream",
     "text": [
      "\n",
      "Summary Statistics After Cleaning:\n",
      "              Rooms      Distance      Bedroom2      Bathroom           Car  \\\n",
      "count  1.251900e+04  1.251900e+04  1.251900e+04  1.251900e+04  1.251900e+04   \n",
      "mean  -3.632457e-17  3.632457e-17 -3.632457e-17  9.989258e-17  1.271360e-16   \n",
      "std    1.000040e+00  1.000040e+00  1.000040e+00  1.000040e+00  1.000040e+00   \n",
      "min   -2.041349e+00 -1.718632e+00 -3.099025e+00 -2.353421e+00 -1.775057e+00   \n",
      "25%   -9.636427e-01 -6.789317e-01 -9.268185e-01 -7.740023e-01 -6.407058e-01   \n",
      "50%    1.140635e-01 -1.423124e-01  1.592847e-01 -7.740023e-01  4.936452e-01   \n",
      "75%    1.140635e-01  4.613842e-01  1.592847e-01  8.054166e-01  4.936452e-01   \n",
      "max    7.658006e+00  6.347427e+00  7.762007e+00  5.543673e+00  3.896698e+00   \n",
      "\n",
      "              Price  Bedroom_Discrepancy  \n",
      "count  1.251900e+04         12519.000000  \n",
      "mean   9.898881e+05             0.000000  \n",
      "std    4.577606e+05             1.000040  \n",
      "min    8.500000e+04            -0.173345  \n",
      "25%    6.445000e+05            -0.173345  \n",
      "50%    8.880000e+05            -0.173345  \n",
      "75%    1.280000e+06            -0.173345  \n",
      "max    2.370000e+06            16.813809  \n"
     ]
    }
   ],
   "source": [
    "# Summary statistics to verify cleanliness\n",
    "print(\"\\nSummary Statistics After Cleaning:\")\n",
    "print(data.describe())"
   ]
  },
  {
   "cell_type": "code",
   "execution_count": 1,
   "id": "a65f06c5-e7dc-4df6-aef3-933e2e553c14",
   "metadata": {},
   "outputs": [],
   "source": [
    "# Save preprocessed data\n",
    "data.to_csv('melb_preprocessed.csv', index=False)\n"
   ]
  }
 ],
 "metadata": {
  "kernelspec": {
   "display_name": "Python 3 (ipykernel)",
   "language": "python",
   "name": "python3"
  },
  "language_info": {
   "codemirror_mode": {
    "name": "ipython",
    "version": 3
   },
   "file_extension": ".py",
   "mimetype": "text/x-python",
   "name": "python",
   "nbconvert_exporter": "python",
   "pygments_lexer": "ipython3",
   "version": "3.13.3"
  }
 },
 "nbformat": 4,
 "nbformat_minor": 5
}
